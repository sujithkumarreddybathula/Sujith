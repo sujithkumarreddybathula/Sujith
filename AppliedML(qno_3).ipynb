{
 "cells": [
  {
   "cell_type": "code",
   "execution_count": 19,
   "metadata": {
    "id": "u94awFPeQgaS"
   },
   "outputs": [],
   "source": [
    "import numpy as np\n",
    "import pandas as pd\n",
    "import matplotlib.pyplot as plt\n",
    "from scipy.stats import skew\n",
    "import seaborn as sns\n",
    "from sklearn import linear_model\n",
    "from sklearn.model_selection import train_test_split\n",
    "from sklearn.metrics import mean_squared_error\n",
    "from sklearn.metrics import r2_score\n",
    "import statsmodels.formula.api as smf\n",
    "import statsmodels.api as sm\n",
    "%matplotlib inline"
   ]
  },
  {
   "cell_type": "code",
   "execution_count": 27,
   "metadata": {
    "colab": {
     "base_uri": "https://localhost:8080/",
     "height": 423
    },
    "id": "Q8Membs0QyJC",
    "outputId": "7b2dc26a-7ee2-402e-e877-ed77847d252f"
   },
   "outputs": [
    {
     "data": {
      "text/html": [
       "\n",
       "  <div id=\"df-d512719b-8b59-4a0e-ab5d-e0565f521b64\">\n",
       "    <div class=\"colab-df-container\">\n",
       "      <div>\n",
       "<style scoped>\n",
       "    .dataframe tbody tr th:only-of-type {\n",
       "        vertical-align: middle;\n",
       "    }\n",
       "\n",
       "    .dataframe tbody tr th {\n",
       "        vertical-align: top;\n",
       "    }\n",
       "\n",
       "    .dataframe thead th {\n",
       "        text-align: right;\n",
       "    }\n",
       "</style>\n",
       "<table border=\"1\" class=\"dataframe\">\n",
       "  <thead>\n",
       "    <tr style=\"text-align: right;\">\n",
       "      <th></th>\n",
       "      <th>prate</th>\n",
       "      <th>mrate</th>\n",
       "      <th>totpart</th>\n",
       "      <th>totelg</th>\n",
       "      <th>age</th>\n",
       "      <th>totemp</th>\n",
       "      <th>sole</th>\n",
       "      <th>ltotemp</th>\n",
       "    </tr>\n",
       "  </thead>\n",
       "  <tbody>\n",
       "    <tr>\n",
       "      <th>0</th>\n",
       "      <td>26.1</td>\n",
       "      <td>0.21</td>\n",
       "      <td>1653</td>\n",
       "      <td>6322</td>\n",
       "      <td>8</td>\n",
       "      <td>8709.0</td>\n",
       "      <td>0</td>\n",
       "      <td>9.072112</td>\n",
       "    </tr>\n",
       "    <tr>\n",
       "      <th>1</th>\n",
       "      <td>100.0</td>\n",
       "      <td>1.42</td>\n",
       "      <td>262</td>\n",
       "      <td>262</td>\n",
       "      <td>6</td>\n",
       "      <td>315.0</td>\n",
       "      <td>1</td>\n",
       "      <td>5.752573</td>\n",
       "    </tr>\n",
       "    <tr>\n",
       "      <th>2</th>\n",
       "      <td>97.6</td>\n",
       "      <td>0.91</td>\n",
       "      <td>166</td>\n",
       "      <td>170</td>\n",
       "      <td>10</td>\n",
       "      <td>275.0</td>\n",
       "      <td>1</td>\n",
       "      <td>5.616771</td>\n",
       "    </tr>\n",
       "    <tr>\n",
       "      <th>3</th>\n",
       "      <td>100.0</td>\n",
       "      <td>0.42</td>\n",
       "      <td>257</td>\n",
       "      <td>257</td>\n",
       "      <td>7</td>\n",
       "      <td>500.0</td>\n",
       "      <td>0</td>\n",
       "      <td>6.214608</td>\n",
       "    </tr>\n",
       "    <tr>\n",
       "      <th>4</th>\n",
       "      <td>82.5</td>\n",
       "      <td>0.53</td>\n",
       "      <td>591</td>\n",
       "      <td>716</td>\n",
       "      <td>28</td>\n",
       "      <td>933.0</td>\n",
       "      <td>1</td>\n",
       "      <td>6.838405</td>\n",
       "    </tr>\n",
       "    <tr>\n",
       "      <th>...</th>\n",
       "      <td>...</td>\n",
       "      <td>...</td>\n",
       "      <td>...</td>\n",
       "      <td>...</td>\n",
       "      <td>...</td>\n",
       "      <td>...</td>\n",
       "      <td>...</td>\n",
       "      <td>...</td>\n",
       "    </tr>\n",
       "    <tr>\n",
       "      <th>1529</th>\n",
       "      <td>85.1</td>\n",
       "      <td>0.33</td>\n",
       "      <td>553</td>\n",
       "      <td>650</td>\n",
       "      <td>24</td>\n",
       "      <td>907.0</td>\n",
       "      <td>0</td>\n",
       "      <td>6.810143</td>\n",
       "    </tr>\n",
       "    <tr>\n",
       "      <th>1530</th>\n",
       "      <td>100.0</td>\n",
       "      <td>2.52</td>\n",
       "      <td>142</td>\n",
       "      <td>142</td>\n",
       "      <td>17</td>\n",
       "      <td>197.0</td>\n",
       "      <td>1</td>\n",
       "      <td>5.283204</td>\n",
       "    </tr>\n",
       "    <tr>\n",
       "      <th>1531</th>\n",
       "      <td>100.0</td>\n",
       "      <td>2.27</td>\n",
       "      <td>1928</td>\n",
       "      <td>1928</td>\n",
       "      <td>35</td>\n",
       "      <td>2171.0</td>\n",
       "      <td>0</td>\n",
       "      <td>7.682943</td>\n",
       "    </tr>\n",
       "    <tr>\n",
       "      <th>1532</th>\n",
       "      <td>100.0</td>\n",
       "      <td>0.58</td>\n",
       "      <td>166</td>\n",
       "      <td>166</td>\n",
       "      <td>8</td>\n",
       "      <td>931.0</td>\n",
       "      <td>1</td>\n",
       "      <td>6.836259</td>\n",
       "    </tr>\n",
       "    <tr>\n",
       "      <th>1533</th>\n",
       "      <td>100.0</td>\n",
       "      <td>0.45</td>\n",
       "      <td>2179</td>\n",
       "      <td>2179</td>\n",
       "      <td>24</td>\n",
       "      <td>3187.0</td>\n",
       "      <td>0</td>\n",
       "      <td>8.066835</td>\n",
       "    </tr>\n",
       "  </tbody>\n",
       "</table>\n",
       "<p>1534 rows × 8 columns</p>\n",
       "</div>\n",
       "      <button class=\"colab-df-convert\" onclick=\"convertToInteractive('df-d512719b-8b59-4a0e-ab5d-e0565f521b64')\"\n",
       "              title=\"Convert this dataframe to an interactive table.\"\n",
       "              style=\"display:none;\">\n",
       "        \n",
       "  <svg xmlns=\"http://www.w3.org/2000/svg\" height=\"24px\"viewBox=\"0 0 24 24\"\n",
       "       width=\"24px\">\n",
       "    <path d=\"M0 0h24v24H0V0z\" fill=\"none\"/>\n",
       "    <path d=\"M18.56 5.44l.94 2.06.94-2.06 2.06-.94-2.06-.94-.94-2.06-.94 2.06-2.06.94zm-11 1L8.5 8.5l.94-2.06 2.06-.94-2.06-.94L8.5 2.5l-.94 2.06-2.06.94zm10 10l.94 2.06.94-2.06 2.06-.94-2.06-.94-.94-2.06-.94 2.06-2.06.94z\"/><path d=\"M17.41 7.96l-1.37-1.37c-.4-.4-.92-.59-1.43-.59-.52 0-1.04.2-1.43.59L10.3 9.45l-7.72 7.72c-.78.78-.78 2.05 0 2.83L4 21.41c.39.39.9.59 1.41.59.51 0 1.02-.2 1.41-.59l7.78-7.78 2.81-2.81c.8-.78.8-2.07 0-2.86zM5.41 20L4 18.59l7.72-7.72 1.47 1.35L5.41 20z\"/>\n",
       "  </svg>\n",
       "      </button>\n",
       "      \n",
       "  <style>\n",
       "    .colab-df-container {\n",
       "      display:flex;\n",
       "      flex-wrap:wrap;\n",
       "      gap: 12px;\n",
       "    }\n",
       "\n",
       "    .colab-df-convert {\n",
       "      background-color: #E8F0FE;\n",
       "      border: none;\n",
       "      border-radius: 50%;\n",
       "      cursor: pointer;\n",
       "      display: none;\n",
       "      fill: #1967D2;\n",
       "      height: 32px;\n",
       "      padding: 0 0 0 0;\n",
       "      width: 32px;\n",
       "    }\n",
       "\n",
       "    .colab-df-convert:hover {\n",
       "      background-color: #E2EBFA;\n",
       "      box-shadow: 0px 1px 2px rgba(60, 64, 67, 0.3), 0px 1px 3px 1px rgba(60, 64, 67, 0.15);\n",
       "      fill: #174EA6;\n",
       "    }\n",
       "\n",
       "    [theme=dark] .colab-df-convert {\n",
       "      background-color: #3B4455;\n",
       "      fill: #D2E3FC;\n",
       "    }\n",
       "\n",
       "    [theme=dark] .colab-df-convert:hover {\n",
       "      background-color: #434B5C;\n",
       "      box-shadow: 0px 1px 3px 1px rgba(0, 0, 0, 0.15);\n",
       "      filter: drop-shadow(0px 1px 2px rgba(0, 0, 0, 0.3));\n",
       "      fill: #FFFFFF;\n",
       "    }\n",
       "  </style>\n",
       "\n",
       "      <script>\n",
       "        const buttonEl =\n",
       "          document.querySelector('#df-d512719b-8b59-4a0e-ab5d-e0565f521b64 button.colab-df-convert');\n",
       "        buttonEl.style.display =\n",
       "          google.colab.kernel.accessAllowed ? 'block' : 'none';\n",
       "\n",
       "        async function convertToInteractive(key) {\n",
       "          const element = document.querySelector('#df-d512719b-8b59-4a0e-ab5d-e0565f521b64');\n",
       "          const dataTable =\n",
       "            await google.colab.kernel.invokeFunction('convertToInteractive',\n",
       "                                                     [key], {});\n",
       "          if (!dataTable) return;\n",
       "\n",
       "          const docLinkHtml = 'Like what you see? Visit the ' +\n",
       "            '<a target=\"_blank\" href=https://colab.research.google.com/notebooks/data_table.ipynb>data table notebook</a>'\n",
       "            + ' to learn more about interactive tables.';\n",
       "          element.innerHTML = '';\n",
       "          dataTable['output_type'] = 'display_data';\n",
       "          await google.colab.output.renderOutput(dataTable, element);\n",
       "          const docLink = document.createElement('div');\n",
       "          docLink.innerHTML = docLinkHtml;\n",
       "          element.appendChild(docLink);\n",
       "        }\n",
       "      </script>\n",
       "    </div>\n",
       "  </div>\n",
       "  "
      ],
      "text/plain": [
       "      prate  mrate  totpart  totelg  age  totemp  sole   ltotemp\n",
       "0      26.1   0.21     1653    6322    8  8709.0     0  9.072112\n",
       "1     100.0   1.42      262     262    6   315.0     1  5.752573\n",
       "2      97.6   0.91      166     170   10   275.0     1  5.616771\n",
       "3     100.0   0.42      257     257    7   500.0     0  6.214608\n",
       "4      82.5   0.53      591     716   28   933.0     1  6.838405\n",
       "...     ...    ...      ...     ...  ...     ...   ...       ...\n",
       "1529   85.1   0.33      553     650   24   907.0     0  6.810143\n",
       "1530  100.0   2.52      142     142   17   197.0     1  5.283204\n",
       "1531  100.0   2.27     1928    1928   35  2171.0     0  7.682943\n",
       "1532  100.0   0.58      166     166    8   931.0     1  6.836259\n",
       "1533  100.0   0.45     2179    2179   24  3187.0     0  8.066835\n",
       "\n",
       "[1534 rows x 8 columns]"
      ]
     },
     "execution_count": 27,
     "metadata": {},
     "output_type": "execute_result"
    }
   ],
   "source": [
    "df = pd.read_csv('/content/401K.csv')\n",
    "df"
   ]
  },
  {
   "cell_type": "code",
   "execution_count": 21,
   "metadata": {
    "colab": {
     "base_uri": "https://localhost:8080/",
     "height": 344
    },
    "id": "AbtRAyRqQ4CU",
    "outputId": "5030cf6b-3e3c-4fdc-f7b2-28daf2ac3832"
   },
   "outputs": [
    {
     "data": {
      "text/html": [
       "\n",
       "  <div id=\"df-629ff409-8889-4afd-b1d9-d88a7ec5bde4\">\n",
       "    <div class=\"colab-df-container\">\n",
       "      <div>\n",
       "<style scoped>\n",
       "    .dataframe tbody tr th:only-of-type {\n",
       "        vertical-align: middle;\n",
       "    }\n",
       "\n",
       "    .dataframe tbody tr th {\n",
       "        vertical-align: top;\n",
       "    }\n",
       "\n",
       "    .dataframe thead th {\n",
       "        text-align: right;\n",
       "    }\n",
       "</style>\n",
       "<table border=\"1\" class=\"dataframe\">\n",
       "  <thead>\n",
       "    <tr style=\"text-align: right;\">\n",
       "      <th></th>\n",
       "      <th>prate</th>\n",
       "      <th>mrate</th>\n",
       "      <th>totpart</th>\n",
       "      <th>totelg</th>\n",
       "      <th>age</th>\n",
       "      <th>totemp</th>\n",
       "      <th>sole</th>\n",
       "      <th>ltotemp</th>\n",
       "    </tr>\n",
       "  </thead>\n",
       "  <tbody>\n",
       "    <tr>\n",
       "      <th>count</th>\n",
       "      <td>1534.000000</td>\n",
       "      <td>1534.000000</td>\n",
       "      <td>1534.000000</td>\n",
       "      <td>1534.000000</td>\n",
       "      <td>1534.000000</td>\n",
       "      <td>1534.000000</td>\n",
       "      <td>1534.000000</td>\n",
       "      <td>1534.000000</td>\n",
       "    </tr>\n",
       "    <tr>\n",
       "      <th>mean</th>\n",
       "      <td>87.362907</td>\n",
       "      <td>0.731512</td>\n",
       "      <td>1354.230769</td>\n",
       "      <td>1628.534550</td>\n",
       "      <td>13.181226</td>\n",
       "      <td>3567.321382</td>\n",
       "      <td>0.487614</td>\n",
       "      <td>6.686034</td>\n",
       "    </tr>\n",
       "    <tr>\n",
       "      <th>std</th>\n",
       "      <td>16.716537</td>\n",
       "      <td>0.779539</td>\n",
       "      <td>4629.264665</td>\n",
       "      <td>5370.719356</td>\n",
       "      <td>9.171114</td>\n",
       "      <td>11199.875376</td>\n",
       "      <td>0.500010</td>\n",
       "      <td>1.453375</td>\n",
       "    </tr>\n",
       "    <tr>\n",
       "      <th>min</th>\n",
       "      <td>3.000000</td>\n",
       "      <td>0.010000</td>\n",
       "      <td>50.000000</td>\n",
       "      <td>51.000000</td>\n",
       "      <td>4.000000</td>\n",
       "      <td>58.000000</td>\n",
       "      <td>0.000000</td>\n",
       "      <td>4.060443</td>\n",
       "    </tr>\n",
       "    <tr>\n",
       "      <th>25%</th>\n",
       "      <td>78.025000</td>\n",
       "      <td>0.300000</td>\n",
       "      <td>156.250000</td>\n",
       "      <td>176.000000</td>\n",
       "      <td>7.000000</td>\n",
       "      <td>261.000000</td>\n",
       "      <td>0.000000</td>\n",
       "      <td>5.564520</td>\n",
       "    </tr>\n",
       "    <tr>\n",
       "      <th>50%</th>\n",
       "      <td>95.700000</td>\n",
       "      <td>0.460000</td>\n",
       "      <td>276.000000</td>\n",
       "      <td>330.000000</td>\n",
       "      <td>9.000000</td>\n",
       "      <td>588.000000</td>\n",
       "      <td>0.000000</td>\n",
       "      <td>6.376726</td>\n",
       "    </tr>\n",
       "    <tr>\n",
       "      <th>75%</th>\n",
       "      <td>100.000000</td>\n",
       "      <td>0.830000</td>\n",
       "      <td>749.500000</td>\n",
       "      <td>890.500000</td>\n",
       "      <td>18.000000</td>\n",
       "      <td>1804.000000</td>\n",
       "      <td>1.000000</td>\n",
       "      <td>7.497762</td>\n",
       "    </tr>\n",
       "    <tr>\n",
       "      <th>max</th>\n",
       "      <td>100.000000</td>\n",
       "      <td>4.910000</td>\n",
       "      <td>58811.000000</td>\n",
       "      <td>70429.000000</td>\n",
       "      <td>51.000000</td>\n",
       "      <td>140000.000000</td>\n",
       "      <td>1.000000</td>\n",
       "      <td>11.880250</td>\n",
       "    </tr>\n",
       "  </tbody>\n",
       "</table>\n",
       "</div>\n",
       "      <button class=\"colab-df-convert\" onclick=\"convertToInteractive('df-629ff409-8889-4afd-b1d9-d88a7ec5bde4')\"\n",
       "              title=\"Convert this dataframe to an interactive table.\"\n",
       "              style=\"display:none;\">\n",
       "        \n",
       "  <svg xmlns=\"http://www.w3.org/2000/svg\" height=\"24px\"viewBox=\"0 0 24 24\"\n",
       "       width=\"24px\">\n",
       "    <path d=\"M0 0h24v24H0V0z\" fill=\"none\"/>\n",
       "    <path d=\"M18.56 5.44l.94 2.06.94-2.06 2.06-.94-2.06-.94-.94-2.06-.94 2.06-2.06.94zm-11 1L8.5 8.5l.94-2.06 2.06-.94-2.06-.94L8.5 2.5l-.94 2.06-2.06.94zm10 10l.94 2.06.94-2.06 2.06-.94-2.06-.94-.94-2.06-.94 2.06-2.06.94z\"/><path d=\"M17.41 7.96l-1.37-1.37c-.4-.4-.92-.59-1.43-.59-.52 0-1.04.2-1.43.59L10.3 9.45l-7.72 7.72c-.78.78-.78 2.05 0 2.83L4 21.41c.39.39.9.59 1.41.59.51 0 1.02-.2 1.41-.59l7.78-7.78 2.81-2.81c.8-.78.8-2.07 0-2.86zM5.41 20L4 18.59l7.72-7.72 1.47 1.35L5.41 20z\"/>\n",
       "  </svg>\n",
       "      </button>\n",
       "      \n",
       "  <style>\n",
       "    .colab-df-container {\n",
       "      display:flex;\n",
       "      flex-wrap:wrap;\n",
       "      gap: 12px;\n",
       "    }\n",
       "\n",
       "    .colab-df-convert {\n",
       "      background-color: #E8F0FE;\n",
       "      border: none;\n",
       "      border-radius: 50%;\n",
       "      cursor: pointer;\n",
       "      display: none;\n",
       "      fill: #1967D2;\n",
       "      height: 32px;\n",
       "      padding: 0 0 0 0;\n",
       "      width: 32px;\n",
       "    }\n",
       "\n",
       "    .colab-df-convert:hover {\n",
       "      background-color: #E2EBFA;\n",
       "      box-shadow: 0px 1px 2px rgba(60, 64, 67, 0.3), 0px 1px 3px 1px rgba(60, 64, 67, 0.15);\n",
       "      fill: #174EA6;\n",
       "    }\n",
       "\n",
       "    [theme=dark] .colab-df-convert {\n",
       "      background-color: #3B4455;\n",
       "      fill: #D2E3FC;\n",
       "    }\n",
       "\n",
       "    [theme=dark] .colab-df-convert:hover {\n",
       "      background-color: #434B5C;\n",
       "      box-shadow: 0px 1px 3px 1px rgba(0, 0, 0, 0.15);\n",
       "      filter: drop-shadow(0px 1px 2px rgba(0, 0, 0, 0.3));\n",
       "      fill: #FFFFFF;\n",
       "    }\n",
       "  </style>\n",
       "\n",
       "      <script>\n",
       "        const buttonEl =\n",
       "          document.querySelector('#df-629ff409-8889-4afd-b1d9-d88a7ec5bde4 button.colab-df-convert');\n",
       "        buttonEl.style.display =\n",
       "          google.colab.kernel.accessAllowed ? 'block' : 'none';\n",
       "\n",
       "        async function convertToInteractive(key) {\n",
       "          const element = document.querySelector('#df-629ff409-8889-4afd-b1d9-d88a7ec5bde4');\n",
       "          const dataTable =\n",
       "            await google.colab.kernel.invokeFunction('convertToInteractive',\n",
       "                                                     [key], {});\n",
       "          if (!dataTable) return;\n",
       "\n",
       "          const docLinkHtml = 'Like what you see? Visit the ' +\n",
       "            '<a target=\"_blank\" href=https://colab.research.google.com/notebooks/data_table.ipynb>data table notebook</a>'\n",
       "            + ' to learn more about interactive tables.';\n",
       "          element.innerHTML = '';\n",
       "          dataTable['output_type'] = 'display_data';\n",
       "          await google.colab.output.renderOutput(dataTable, element);\n",
       "          const docLink = document.createElement('div');\n",
       "          docLink.innerHTML = docLinkHtml;\n",
       "          element.appendChild(docLink);\n",
       "        }\n",
       "      </script>\n",
       "    </div>\n",
       "  </div>\n",
       "  "
      ],
      "text/plain": [
       "             prate        mrate       totpart        totelg          age  \\\n",
       "count  1534.000000  1534.000000   1534.000000   1534.000000  1534.000000   \n",
       "mean     87.362907     0.731512   1354.230769   1628.534550    13.181226   \n",
       "std      16.716537     0.779539   4629.264665   5370.719356     9.171114   \n",
       "min       3.000000     0.010000     50.000000     51.000000     4.000000   \n",
       "25%      78.025000     0.300000    156.250000    176.000000     7.000000   \n",
       "50%      95.700000     0.460000    276.000000    330.000000     9.000000   \n",
       "75%     100.000000     0.830000    749.500000    890.500000    18.000000   \n",
       "max     100.000000     4.910000  58811.000000  70429.000000    51.000000   \n",
       "\n",
       "              totemp         sole      ltotemp  \n",
       "count    1534.000000  1534.000000  1534.000000  \n",
       "mean     3567.321382     0.487614     6.686034  \n",
       "std     11199.875376     0.500010     1.453375  \n",
       "min        58.000000     0.000000     4.060443  \n",
       "25%       261.000000     0.000000     5.564520  \n",
       "50%       588.000000     0.000000     6.376726  \n",
       "75%      1804.000000     1.000000     7.497762  \n",
       "max    140000.000000     1.000000    11.880250  "
      ]
     },
     "execution_count": 21,
     "metadata": {},
     "output_type": "execute_result"
    }
   ],
   "source": [
    "df.describe()"
   ]
  },
  {
   "cell_type": "code",
   "execution_count": 22,
   "metadata": {
    "colab": {
     "base_uri": "https://localhost:8080/",
     "height": 296
    },
    "id": "cK7ht8cEAymz",
    "outputId": "1f212623-14e2-4e04-f13a-ea305d3d512a"
   },
   "outputs": [
    {
     "data": {
      "image/png": "[encoded data removed]",
      "text/plain": [
       "<Figure size 432x288 with 1 Axes>"
      ]
     },
     "metadata": {
      "needs_background": "light"
     },
     "output_type": "display_data"
    },
    {
     "name": "stdout",
     "output_type": "stream",
     "text": [
      "7.329735370307872\n"
     ]
    }
   ],
   "source": [
    "plt.hist(df['totelg'])\n",
    "plt.xlabel(\"Totelg\")\n",
    "plt.show()\n",
    "print(skew(df['totelg'],bias=False))\n",
    "df['totelg'] = np.log(df['totelg'])"
   ]
  },
  {
   "cell_type": "code",
   "execution_count": 23,
   "metadata": {
    "colab": {
     "base_uri": "https://localhost:8080/",
     "height": 314
    },
    "id": "x-JXqSPbA6vk",
    "outputId": "25c33fd4-9e94-41ce-933d-7347b0f0a45e"
   },
   "outputs": [
    {
     "data": {
      "image/png": "[encoded data removed]",
      "text/plain": [
       "<Figure size 432x288 with 1 Axes>"
      ]
     },
     "metadata": {
      "needs_background": "light"
     },
     "output_type": "display_data"
    },
    {
     "name": "stdout",
     "output_type": "stream",
     "text": [
      "7.772191403038769\n",
      "1.2279679670943453\n"
     ]
    }
   ],
   "source": [
    "plt.hist(df['totpart'])\n",
    "plt.xlabel(\"Totpart\")\n",
    "plt.show()\n",
    "print(skew(df['totpart'],bias=False))\n",
    "df['totpart'] = np.log(df['totpart'])\n",
    "print(skew(df['totpart'],bias=False))"
   ]
  },
  {
   "cell_type": "code",
   "execution_count": 24,
   "metadata": {
    "colab": {
     "base_uri": "https://localhost:8080/",
     "height": 296
    },
    "id": "yDOqX2kVLEr1",
    "outputId": "ec8ae90b-886c-4572-b407-7ed251f54049"
   },
   "outputs": [
    {
     "data": {
      "image/png": "[encoded data removed]",
      "text/plain": [
       "<Figure size 432x288 with 1 Axes>"
      ]
     },
     "metadata": {
      "needs_background": "light"
     },
     "output_type": "display_data"
    },
    {
     "name": "stdout",
     "output_type": "stream",
     "text": [
      "6.070176915351367\n"
     ]
    }
   ],
   "source": [
    "plt.hist(df['totemp'])\n",
    "plt.xlabel(\"Totemp\")\n",
    "plt.show()\n",
    "print(skew(df['totemp'],bias=False))"
   ]
  },
  {
   "cell_type": "code",
   "execution_count": 28,
   "metadata": {
    "colab": {
     "base_uri": "https://localhost:8080/",
     "height": 296
    },
    "id": "gNVA-HefMFY5",
    "outputId": "247c0449-9303-4bb0-dfc6-cc9d1929aea6"
   },
   "outputs": [
    {
     "data": {
      "image/png": "[encoded data removed]",
      "text/plain": [
       "<Figure size 432x288 with 1 Axes>"
      ]
     },
     "metadata": {
      "needs_background": "light"
     },
     "output_type": "display_data"
    },
    {
     "name": "stdout",
     "output_type": "stream",
     "text": [
      "2.5969888800607697\n"
     ]
    }
   ],
   "source": [
    "plt.hist(df['mrate'])\n",
    "plt.xlabel(\"Mrate\")\n",
    "plt.show()\n",
    "print(skew(df['mrate'],bias=False))\n",
    "df['mrate'] = np.log(df['mrate'])"
   ]
  },
  {
   "cell_type": "code",
   "execution_count": 29,
   "metadata": {
    "colab": {
     "base_uri": "https://localhost:8080/"
    },
    "id": "Gh09QnjGM40_",
    "outputId": "7110fed1-0c3c-4889-8c18-1597becb5642"
   },
   "outputs": [
    {
     "name": "stdout",
     "output_type": "stream",
     "text": [
      "-0.19717102619721422\n"
     ]
    }
   ],
   "source": [
    "print(skew(df['mrate'],bias=False))"
   ]
  },
  {
   "cell_type": "code",
   "execution_count": 30,
   "metadata": {
    "colab": {
     "base_uri": "https://localhost:8080/",
     "height": 743
    },
    "id": "2sgYRxpGLnDu",
    "outputId": "0edb119b-0e0c-494b-c342-59ddab41214e"
   },
   "outputs": [
    {
     "data": {
      "text/plain": [
       "<seaborn.axisgrid.PairGrid at 0x7facbfa8a7f0>"
      ]
     },
     "execution_count": 30,
     "metadata": {},
     "output_type": "execute_result"
    },
    {
     "data": {
      "image/png": "[encoded data removed]",
      "text/plain": [
       "<Figure size 720x720 with 20 Axes>"
      ]
     },
     "metadata": {
      "needs_background": "light"
     },
     "output_type": "display_data"
    }
   ],
   "source": [
    "sns.pairplot(df,vars=['mrate','ltotemp','totpart','totelg'])"
   ]
  },
  {
   "cell_type": "code",
   "execution_count": 31,
   "metadata": {
    "colab": {
     "base_uri": "https://localhost:8080/",
     "height": 279
    },
    "id": "nMLhtemuMpER",
    "outputId": "7c6917e3-2817-4a75-d7cb-2ad21030df23"
   },
   "outputs": [
    {
     "data": {
      "image/png": "[encoded data removed]",
      "text/plain": [
       "<Figure size 432x288 with 1 Axes>"
      ]
     },
     "metadata": {
      "needs_background": "light"
     },
     "output_type": "display_data"
    }
   ],
   "source": [
    "sns.boxplot(x = df['sole'],y=df['mrate'])\n",
    "plt.show()"
   ]
  },
  {
   "cell_type": "code",
   "execution_count": 37,
   "metadata": {
    "id": "9tyBWzHJNanB"
   },
   "outputs": [],
   "source": [
    "X = df[['ltotemp','totpart','totelg','sole','age']]\n",
    "y = df.mrate\n",
    "X_train, X_test, y_train, y_test = train_test_split(X, y, test_size=0.25, random_state=42)"
   ]
  },
  {
   "cell_type": "markdown",
   "metadata": {
    "id": "bAKCzk67OLVj"
   },
   "source": [
    "# **Linear Regression Using statsmodel**"
   ]
  },
  {
   "cell_type": "code",
   "execution_count": 38,
   "metadata": {
    "colab": {
     "base_uri": "https://localhost:8080/"
    },
    "id": "Ief7d9e2NmzI",
    "outputId": "30295dc6-0520-46eb-b912-91a9ca663741"
   },
   "outputs": [
    {
     "name": "stdout",
     "output_type": "stream",
     "text": [
      "                            OLS Regression Results                            \n",
      "==============================================================================\n",
      "Dep. Variable:                  mrate   R-squared:                       0.056\n",
      "Model:                            OLS   Adj. R-squared:                  0.052\n",
      "Method:                 Least Squares   F-statistic:                     13.62\n",
      "Date:                Sun, 12 Mar 2023   Prob (F-statistic):           6.22e-13\n",
      "Time:                        19:07:21   Log-Likelihood:                -1512.0\n",
      "No. Observations:                1150   AIC:                             3036.\n",
      "Df Residuals:                    1144   BIC:                             3066.\n",
      "Df Model:                           5                                         \n",
      "Covariance Type:            nonrobust                                         \n",
      "==============================================================================\n",
      "                 coef    std err          t      P>|t|      [0.025      0.975]\n",
      "------------------------------------------------------------------------------\n",
      "const         -0.6225      0.172     -3.621      0.000      -0.960      -0.285\n",
      "ltotemp       -0.0633      0.024     -2.610      0.009      -0.111      -0.016\n",
      "totpart     7.343e-05   2.47e-05      2.972      0.003    2.49e-05       0.000\n",
      "totelg     -4.894e-05   2.15e-05     -2.273      0.023   -9.12e-05    -6.7e-06\n",
      "sole           0.2183      0.057      3.810      0.000       0.106       0.331\n",
      "age            0.0155      0.003      5.241      0.000       0.010       0.021\n",
      "==============================================================================\n",
      "Omnibus:                       49.474   Durbin-Watson:                   1.921\n",
      "Prob(Omnibus):                  0.000   Jarque-Bera (JB):               88.486\n",
      "Skew:                          -0.320   Prob(JB):                     6.10e-20\n",
      "Kurtosis:                       4.198   Cond. No.                     4.64e+04\n",
      "==============================================================================\n",
      "\n",
      "Notes:\n",
      "[1] Standard Errors assume that the covariance matrix of the errors is correctly specified.\n",
      "[2] The condition number is large, 4.64e+04. This might indicate that there are\n",
      "strong multicollinearity or other numerical problems.\n",
      "R-Squared error for OLS regression 0.05167270790898493\n",
      "Adj-R-Squared error for OLS regression 0.03912869610883929\n"
     ]
    }
   ],
   "source": [
    "X2 = sm.add_constant(X_train)\n",
    "model = sm.OLS(y_train,X2)\n",
    "results = model.fit()\n",
    "print(results.summary())\n",
    "X3 = sm.add_constant(X_test)\n",
    "y_pred = results.predict(X3)\n",
    "print(\"R-Squared error for OLS regression {}\".format(r2_score(y_test, y_pred)))\n",
    "Adj_r2 = 1 - (1-r2_score(y_test, y_pred)) * (len(y_test)-1)/(len(y_test)-X_test.shape[1]-1)\n",
    "print(\"Adj-R-Squared error for OLS regression {}\".format(Adj_r2))"
   ]
  },
  {
   "cell_type": "markdown",
   "metadata": {
    "id": "5RTck3EbORO9"
   },
   "source": [
    "# **Linear Regression Using sklearn**"
   ]
  },
  {
   "cell_type": "code",
   "execution_count": 39,
   "metadata": {
    "colab": {
     "base_uri": "https://localhost:8080/"
    },
    "id": "4zbpI5evN5E_",
    "outputId": "06c90bfd-c0e7-41d6-b432-a5b6ac099035"
   },
   "outputs": [
    {
     "name": "stdout",
     "output_type": "stream",
     "text": [
      "Linear Regression coefficients [-6.33465402e-02  7.34344466e-05 -4.89435091e-05  2.18278231e-01\n",
      "  1.55368388e-02]\n",
      "Linear Regression Intercept -0.622537365356611\n",
      "Mean Squared error for Linear regression 0.7748858216485791\n",
      "R-Squared error for Linear regression 0.0516727079089675\n",
      "Adj-R-Squared error for Linear regression 0.039128696108821526\n"
     ]
    }
   ],
   "source": [
    "lm = linear_model.LinearRegression()\n",
    "lm.fit(X_train,y_train)\n",
    "print(\"Linear Regression coefficients {}\".format(lm.coef_))\n",
    "print(\"Linear Regression Intercept {}\".format(lm.intercept_))\n",
    "y_pred = lm.predict(X_test)\n",
    "print(\"Mean Squared error for Linear regression {}\".format(mean_squared_error(y_test, y_pred)))\n",
    "print(\"R-Squared error for Linear regression {}\".format(r2_score(y_test, y_pred)))\n",
    "Adj_r2 = 1 - (1-r2_score(y_test, y_pred)) * (len(y_test)-1)/(len(y_test)-X_test.shape[1]-1)\n",
    "print(\"Adj-R-Squared error for Linear regression {}\".format(Adj_r2))"
   ]
  },
  {
   "cell_type": "markdown",
   "metadata": {
    "id": "NrAB32sBObdE"
   },
   "source": [
    "# **Lasso Regression**"
   ]
  },
  {
   "cell_type": "code",
   "execution_count": 40,
   "metadata": {
    "colab": {
     "base_uri": "https://localhost:8080/"
    },
    "id": "Cdwksk_tOXIF",
    "outputId": "0c102dcb-3ed4-4769-91f0-8d73b0a82a8f"
   },
   "outputs": [
    {
     "name": "stdout",
     "output_type": "stream",
     "text": [
      "Lasso Regression coefficients [-6.31259277e-02  7.35069656e-05 -4.91126892e-05  2.14266533e-01\n",
      "  1.55180112e-02]\n",
      "Lasso Regression Intercept -0.6215754562743707\n",
      "Mean Squared error for Lasso regression 0.7749376889395073\n",
      "R-Squared error for Lasso regression 0.051609231244173936\n",
      "Adj-R-Squared error for Lasso regression 0.03906437980560473\n"
     ]
    }
   ],
   "source": [
    "lm1 = linear_model.Lasso(alpha=0.001)\n",
    "lm1.fit(X_train,y_train)\n",
    "print(\"Lasso Regression coefficients {}\".format(lm1.coef_))\n",
    "print(\"Lasso Regression Intercept {}\".format(lm1.intercept_))\n",
    "y_pred = lm1.predict(X_test)\n",
    "print(\"Mean Squared error for Lasso regression {}\".format(mean_squared_error(y_test, y_pred)))\n",
    "print(\"R-Squared error for Lasso regression {}\".format(r2_score(y_test, y_pred)))\n",
    "Adj_r2 = 1 - (1-r2_score(y_test, y_pred)) * (len(y_test)-1)/(len(y_test)-X_test.shape[1]-1)\n",
    "print(\"Adj-R-Squared error for Lasso regression {}\".format(Adj_r2))"
   ]
  },
  {
   "cell_type": "markdown",
   "metadata": {
    "id": "kDaHpyTtOlFd"
   },
   "source": [
    "# **Lasso CV**"
   ]
  },
  {
   "cell_type": "code",
   "execution_count": 41,
   "metadata": {
    "colab": {
     "base_uri": "https://localhost:8080/"
    },
    "id": "oIC3he4COfWi",
    "outputId": "fad87941-9c6e-42bb-bf99-f20c2df76f32"
   },
   "outputs": [
    {
     "name": "stdout",
     "output_type": "stream",
     "text": [
      "Lasso Regression CV coefficients [-6.33443341e-02  7.34351718e-05 -4.89452009e-05  2.18238114e-01\n",
      "  1.55366505e-02]\n",
      "Lasso Regression CV Intercept -0.6225277462655429\n",
      "Lasso Regression CV Alpha 1e-05\n",
      "Lasso Regression CV Alpha 1e-05\n",
      "Mean Squared error for Lasso regression CV 0.7748862984322874\n",
      "R-Squared error for Lasso regression CV 0.05167212440751423\n",
      "Adj-R-Squared error for Lasso regression CV 0.03912810488909502\n"
     ]
    }
   ],
   "source": [
    "lm1 = linear_model.LassoCV(alphas=np.linspace(0.00001,0.01,200))\n",
    "lm1.fit(X_train,y_train)\n",
    "print(\"Lasso Regression CV coefficients {}\".format(lm1.coef_))\n",
    "print(\"Lasso Regression CV Intercept {}\".format(lm1.intercept_))\n",
    "print(\"Lasso Regression CV Alpha {}\".format(lm1.alpha_))\n",
    "print(\"Lasso Regression CV Alpha {}\".format(lm1.alphas_[lm1.mse_path_.mean(1).argmin()]))\n",
    "y_pred = lm1.predict(X_test)\n",
    "print(\"Mean Squared error for Lasso regression CV {}\".format(mean_squared_error(y_test, y_pred)))\n",
    "print(\"R-Squared error for Lasso regression CV {}\".format(r2_score(y_test, y_pred)))\n",
    "Adj_r2 = 1 - (1-r2_score(y_test, y_pred)) * (len(y_test)-1)/(len(y_test)-X_test.shape[1]-1)\n",
    "print(\"Adj-R-Squared error for Lasso regression CV {}\".format(Adj_r2))"
   ]
  },
  {
   "cell_type": "markdown",
   "metadata": {
    "id": "qhEnmjJuOtMQ"
   },
   "source": [
    "# **Ridge Regression**"
   ]
  },
  {
   "cell_type": "code",
   "execution_count": 42,
   "metadata": {
    "colab": {
     "base_uri": "https://localhost:8080/"
    },
    "id": "1TDYk6jUOpcP",
    "outputId": "709d750d-eb46-433f-bf54-abe30c0880dd"
   },
   "outputs": [
    {
     "name": "stdout",
     "output_type": "stream",
     "text": [
      "Ridge Regression coefficients [-6.33466110e-02  7.34344565e-05 -4.89435215e-05  2.18277387e-01\n",
      "  1.55368381e-02]\n",
      "Ridge Regression Intercept -0.6225364551630928\n",
      "Mean Squared error for Ridge regression 0.7748858333564167\n",
      "R-Squared error for Ridge regression 0.05167269358058302\n",
      "Adj-R-Squared error for Ridge regression 0.03912868159090821\n"
     ]
    }
   ],
   "source": [
    "lm1 = linear_model.Ridge(alpha=0.001)\n",
    "lm1.fit(X_train,y_train)\n",
    "print(\"Ridge Regression coefficients {}\".format(lm1.coef_))\n",
    "print(\"Ridge Regression Intercept {}\".format(lm1.intercept_))\n",
    "y_pred = lm1.predict(X_test)\n",
    "print(\"Mean Squared error for Ridge regression {}\".format(mean_squared_error(y_test, y_pred)))\n",
    "print(\"R-Squared error for Ridge regression {}\".format(r2_score(y_test, y_pred)))\n",
    "Adj_r2 = 1 - (1-r2_score(y_test, y_pred)) * (len(y_test)-1)/(len(y_test)-X_test.shape[1]-1)\n",
    "print(\"Adj-R-Squared error for Ridge regression {}\".format(Adj_r2))"
   ]
  },
  {
   "cell_type": "markdown",
   "metadata": {
    "id": "mWjB-ltDOxnP"
   },
   "source": [
    "# **Ridge Regressio CV**"
   ]
  },
  {
   "cell_type": "code",
   "execution_count": 43,
   "metadata": {
    "colab": {
     "base_uri": "https://localhost:8080/"
    },
    "id": "MAz5vylQOwzs",
    "outputId": "59fd2254-456f-47af-ecd6-2f8f20325cc0"
   },
   "outputs": [
    {
     "name": "stdout",
     "output_type": "stream",
     "text": [
      "Ridge Regression CV coefficients [-6.33472478e-02  7.34401983e-05 -4.89330268e-05  2.18269792e-01\n",
      "  1.55368317e-02]\n",
      "Ridge Regression CV Intercept -0.6225529335782863\n",
      "Ridge Regression CV Alpha 0.01\n",
      "Mean Squared error for Ridge regression CV 0.7749001141724969\n",
      "R-Squared error for Ridge regression CV 0.051655216311979335\n",
      "Adj-R-Squared error for Lasso regression CV 0.039110973141502914\n"
     ]
    }
   ],
   "source": [
    "lm1 = linear_model.RidgeCV(alphas=np.linspace(0.00001,0.01,200))\n",
    "lm1.fit(X_train,y_train)\n",
    "print(\"Ridge Regression CV coefficients {}\".format(lm1.coef_))\n",
    "print(\"Ridge Regression CV Intercept {}\".format(lm1.intercept_))\n",
    "print(\"Ridge Regression CV Alpha {}\".format(lm1.alpha_))\n",
    "y_pred = lm1.predict(X_test)\n",
    "print(\"Mean Squared error for Ridge regression CV {}\".format(mean_squared_error(y_test, y_pred)))\n",
    "print(\"R-Squared error for Ridge regression CV {}\".format(r2_score(y_test, y_pred)))\n",
    "Adj_r2 = 1 - (1-r2_score(y_test, y_pred)) * (len(y_test)-1)/(len(y_test)-X_test.shape[1]-1)\n",
    "print(\"Adj-R-Squared error for Lasso regression CV {}\".format(Adj_r2))"
   ]
  },
  {
   "cell_type": "markdown",
   "metadata": {
    "id": "dILrSvYSO8GY"
   },
   "source": [
    "# **Elastic Net Regression**"
   ]
  },
  {
   "cell_type": "code",
   "execution_count": 44,
   "metadata": {
    "colab": {
     "base_uri": "https://localhost:8080/"
    },
    "id": "U8kWetM8O3tO",
    "outputId": "2907a416-1938-4d07-fb29-a5a40dfe8a4b"
   },
   "outputs": [
    {
     "name": "stdout",
     "output_type": "stream",
     "text": [
      "Elastic NET Regression coefficients [-5.06892061e-02  7.71572080e-05 -5.77886651e-05  1.56336581e-02\n",
      "  1.45726332e-02]\n",
      "Elastic NET Regression Intercept -0.5834528837053324\n",
      "Mean Squared error for Elastic NET Regression 0.7882225022333881\n"
     ]
    }
   ],
   "source": [
    "lm1 = linear_model.ElasticNet(alpha=0.1,l1_ratio=0.5)\n",
    "lm1.fit(X_train,y_train)\n",
    "print(\"Elastic NET Regression coefficients {}\".format(lm1.coef_))\n",
    "print(\"Elastic NET Regression Intercept {}\".format(lm1.intercept_))\n",
    "y_pred = lm1.predict(X_test)\n",
    "print(\"Mean Squared error for Elastic NET Regression {}\".format(mean_squared_error(y_test, y_pred)))"
   ]
  },
  {
   "cell_type": "markdown",
   "metadata": {
    "id": "HLAzpv1iPC95"
   },
   "source": [
    "# **Elastic Regression CV**"
   ]
  },
  {
   "cell_type": "code",
   "execution_count": 45,
   "metadata": {
    "colab": {
     "base_uri": "https://localhost:8080/"
    },
    "id": "h76eaqiSO_YX",
    "outputId": "4c752416-917f-40ca-ce88-803cc9e791f1"
   },
   "outputs": [
    {
     "name": "stdout",
     "output_type": "stream",
     "text": [
      "Elastic NET Regression coefficients [-6.33395712e-02  7.34386411e-05 -4.89526805e-05  2.18029178e-01\n",
      "  1.55358561e-02]\n",
      "Elastic NET Regression Intercept -0.6224370112692509\n",
      "Elastic NET Regression alpha 0.0001\n",
      "Mean Squared error for Elastic NET Regression 0.7748888913949527\n",
      "R-Squared error for Elastic NET Regression 0.05166895106610825\n",
      "Adj-R-Squared error for Elastic NET Regression 0.03912488957227367\n"
     ]
    }
   ],
   "source": [
    "lm1 = linear_model.ElasticNetCV(alphas=np.linspace(0.0001,0.01,500))\n",
    "lm1.fit(X_train,y_train)\n",
    "print(\"Elastic NET Regression coefficients {}\".format(lm1.coef_))\n",
    "print(\"Elastic NET Regression Intercept {}\".format(lm1.intercept_))\n",
    "print(\"Elastic NET Regression alpha {}\".format(lm1.alpha_))\n",
    "y_pred = lm1.predict(X_test)\n",
    "print(\"Mean Squared error for Elastic NET Regression {}\".format(mean_squared_error(y_test, y_pred)))\n",
    "print(\"R-Squared error for Elastic NET Regression {}\".format(r2_score(y_test, y_pred)))\n",
    "Adj_r2 = 1 - (1-r2_score(y_test, y_pred)) * (len(y_test)-1)/(len(y_test)-X_test.shape[1]-1)\n",
    "print(\"Adj-R-Squared error for Elastic NET Regression {}\".format(Adj_r2))"
   ]
  },
  {
   "cell_type": "code",
   "execution_count": null,
   "metadata": {
    "id": "lYJyS218POQI"
   },
   "outputs": [],
   "source": []
  }
 ],
 "metadata": {
  "colab": {
   "provenance": []
  },
  "kernelspec": {
   "display_name": "Python 3 (ipykernel)",
   "language": "python",
   "name": "python3"
  },
  "language_info": {
   "codemirror_mode": {
    "name": "ipython",
    "version": 3
   },
   "file_extension": ".py",
   "mimetype": "text/x-python",
   "name": "python",
   "nbconvert_exporter": "python",
   "pygments_lexer": "ipython3",
   "version": "3.9.13"
  }
 },
 "nbformat": 4,
 "nbformat_minor": 1
}
