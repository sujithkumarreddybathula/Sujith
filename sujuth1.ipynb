{
 "cells": [
  {
   "cell_type": "code",
   "execution_count": 1,
   "id": "NJNWvy-q88uz",
   "metadata": {
    "id": "NJNWvy-q88uz"
   },
   "outputs": [],
   "source": [
    "import numpy as np\n",
    "import pandas as pd\n",
    "import matplotlib.pyplot as plt\n",
    "from scipy.stats import skew\n",
    "import seaborn as sns\n",
    "from sklearn import linear_model\n",
    "from sklearn.model_selection import train_test_split\n",
    "from sklearn.metrics import mean_squared_error\n",
    "from sklearn.metrics import r2_score\n",
    "import statsmodels.formula.api as smf\n",
    "import statsmodels.api as sm\n",
    "%matplotlib inline"
   ]
  },
  {
   "cell_type": "code",
   "execution_count": 2,
   "id": "_8aOE6vm9E7O",
   "metadata": {
    "colab": {
     "base_uri": "https://localhost:8080/",
     "height": 423
    },
    "id": "_8aOE6vm9E7O",
    "outputId": "d3f86d67-83a8-40aa-9bb4-0b1f9541ac24"
   },
   "outputs": [
    {
     "data": {
      "text/html": [
       "\n",
       "  <div id=\"df-0ced4a97-9469-4d17-9930-4fc2bd38b55a\">\n",
       "    <div class=\"colab-df-container\">\n",
       "      <div>\n",
       "<style scoped>\n",
       "    .dataframe tbody tr th:only-of-type {\n",
       "        vertical-align: middle;\n",
       "    }\n",
       "\n",
       "    .dataframe tbody tr th {\n",
       "        vertical-align: top;\n",
       "    }\n",
       "\n",
       "    .dataframe thead th {\n",
       "        text-align: right;\n",
       "    }\n",
       "</style>\n",
       "<table border=\"1\" class=\"dataframe\">\n",
       "  <thead>\n",
       "    <tr style=\"text-align: right;\">\n",
       "      <th></th>\n",
       "      <th>price</th>\n",
       "      <th>assess</th>\n",
       "      <th>bdrms</th>\n",
       "      <th>lotsize</th>\n",
       "      <th>sqrft</th>\n",
       "      <th>colonial</th>\n",
       "      <th>lprice</th>\n",
       "      <th>lassess</th>\n",
       "      <th>llotsize</th>\n",
       "      <th>lsqrft</th>\n",
       "    </tr>\n",
       "  </thead>\n",
       "  <tbody>\n",
       "    <tr>\n",
       "      <th>0</th>\n",
       "      <td>300.0</td>\n",
       "      <td>349.1</td>\n",
       "      <td>4</td>\n",
       "      <td>6126</td>\n",
       "      <td>2438</td>\n",
       "      <td>1</td>\n",
       "      <td>5.703783</td>\n",
       "      <td>5.855359</td>\n",
       "      <td>8.720297</td>\n",
       "      <td>7.798934</td>\n",
       "    </tr>\n",
       "    <tr>\n",
       "      <th>1</th>\n",
       "      <td>370.0</td>\n",
       "      <td>351.5</td>\n",
       "      <td>3</td>\n",
       "      <td>9903</td>\n",
       "      <td>2076</td>\n",
       "      <td>1</td>\n",
       "      <td>5.913503</td>\n",
       "      <td>5.862210</td>\n",
       "      <td>9.200593</td>\n",
       "      <td>7.638198</td>\n",
       "    </tr>\n",
       "    <tr>\n",
       "      <th>2</th>\n",
       "      <td>191.0</td>\n",
       "      <td>217.7</td>\n",
       "      <td>3</td>\n",
       "      <td>5200</td>\n",
       "      <td>1374</td>\n",
       "      <td>0</td>\n",
       "      <td>5.252274</td>\n",
       "      <td>5.383118</td>\n",
       "      <td>8.556414</td>\n",
       "      <td>7.225482</td>\n",
       "    </tr>\n",
       "    <tr>\n",
       "      <th>3</th>\n",
       "      <td>195.0</td>\n",
       "      <td>231.8</td>\n",
       "      <td>3</td>\n",
       "      <td>4600</td>\n",
       "      <td>1448</td>\n",
       "      <td>1</td>\n",
       "      <td>5.273000</td>\n",
       "      <td>5.445875</td>\n",
       "      <td>8.433811</td>\n",
       "      <td>7.277938</td>\n",
       "    </tr>\n",
       "    <tr>\n",
       "      <th>4</th>\n",
       "      <td>373.0</td>\n",
       "      <td>319.1</td>\n",
       "      <td>4</td>\n",
       "      <td>6095</td>\n",
       "      <td>2514</td>\n",
       "      <td>1</td>\n",
       "      <td>5.921578</td>\n",
       "      <td>5.765504</td>\n",
       "      <td>8.715224</td>\n",
       "      <td>7.829630</td>\n",
       "    </tr>\n",
       "    <tr>\n",
       "      <th>...</th>\n",
       "      <td>...</td>\n",
       "      <td>...</td>\n",
       "      <td>...</td>\n",
       "      <td>...</td>\n",
       "      <td>...</td>\n",
       "      <td>...</td>\n",
       "      <td>...</td>\n",
       "      <td>...</td>\n",
       "      <td>...</td>\n",
       "      <td>...</td>\n",
       "    </tr>\n",
       "    <tr>\n",
       "      <th>83</th>\n",
       "      <td>295.0</td>\n",
       "      <td>318.3</td>\n",
       "      <td>3</td>\n",
       "      <td>6056</td>\n",
       "      <td>1837</td>\n",
       "      <td>1</td>\n",
       "      <td>5.686975</td>\n",
       "      <td>5.762994</td>\n",
       "      <td>8.708805</td>\n",
       "      <td>7.515889</td>\n",
       "    </tr>\n",
       "    <tr>\n",
       "      <th>84</th>\n",
       "      <td>236.0</td>\n",
       "      <td>259.4</td>\n",
       "      <td>3</td>\n",
       "      <td>5828</td>\n",
       "      <td>1715</td>\n",
       "      <td>0</td>\n",
       "      <td>5.463832</td>\n",
       "      <td>5.558371</td>\n",
       "      <td>8.670429</td>\n",
       "      <td>7.447168</td>\n",
       "    </tr>\n",
       "    <tr>\n",
       "      <th>85</th>\n",
       "      <td>202.5</td>\n",
       "      <td>258.1</td>\n",
       "      <td>3</td>\n",
       "      <td>6341</td>\n",
       "      <td>1574</td>\n",
       "      <td>0</td>\n",
       "      <td>5.310740</td>\n",
       "      <td>5.553347</td>\n",
       "      <td>8.754792</td>\n",
       "      <td>7.361375</td>\n",
       "    </tr>\n",
       "    <tr>\n",
       "      <th>86</th>\n",
       "      <td>219.0</td>\n",
       "      <td>232.0</td>\n",
       "      <td>2</td>\n",
       "      <td>6362</td>\n",
       "      <td>1185</td>\n",
       "      <td>0</td>\n",
       "      <td>5.389072</td>\n",
       "      <td>5.446737</td>\n",
       "      <td>8.758098</td>\n",
       "      <td>7.077498</td>\n",
       "    </tr>\n",
       "    <tr>\n",
       "      <th>87</th>\n",
       "      <td>242.0</td>\n",
       "      <td>252.0</td>\n",
       "      <td>4</td>\n",
       "      <td>4950</td>\n",
       "      <td>1774</td>\n",
       "      <td>1</td>\n",
       "      <td>5.488938</td>\n",
       "      <td>5.529429</td>\n",
       "      <td>8.507143</td>\n",
       "      <td>7.480992</td>\n",
       "    </tr>\n",
       "  </tbody>\n",
       "</table>\n",
       "<p>88 rows × 10 columns</p>\n",
       "</div>\n",
       "      <button class=\"colab-df-convert\" onclick=\"convertToInteractive('df-0ced4a97-9469-4d17-9930-4fc2bd38b55a')\"\n",
       "              title=\"Convert this dataframe to an interactive table.\"\n",
       "              style=\"display:none;\">\n",
       "        \n",
       "  <svg xmlns=\"http://www.w3.org/2000/svg\" height=\"24px\"viewBox=\"0 0 24 24\"\n",
       "       width=\"24px\">\n",
       "    <path d=\"M0 0h24v24H0V0z\" fill=\"none\"/>\n",
       "    <path d=\"M18.56 5.44l.94 2.06.94-2.06 2.06-.94-2.06-.94-.94-2.06-.94 2.06-2.06.94zm-11 1L8.5 8.5l.94-2.06 2.06-.94-2.06-.94L8.5 2.5l-.94 2.06-2.06.94zm10 10l.94 2.06.94-2.06 2.06-.94-2.06-.94-.94-2.06-.94 2.06-2.06.94z\"/><path d=\"M17.41 7.96l-1.37-1.37c-.4-.4-.92-.59-1.43-.59-.52 0-1.04.2-1.43.59L10.3 9.45l-7.72 7.72c-.78.78-.78 2.05 0 2.83L4 21.41c.39.39.9.59 1.41.59.51 0 1.02-.2 1.41-.59l7.78-7.78 2.81-2.81c.8-.78.8-2.07 0-2.86zM5.41 20L4 18.59l7.72-7.72 1.47 1.35L5.41 20z\"/>\n",
       "  </svg>\n",
       "      </button>\n",
       "      \n",
       "  <style>\n",
       "    .colab-df-container {\n",
       "      display:flex;\n",
       "      flex-wrap:wrap;\n",
       "      gap: 12px;\n",
       "    }\n",
       "\n",
       "    .colab-df-convert {\n",
       "      background-color: #E8F0FE;\n",
       "      border: none;\n",
       "      border-radius: 50%;\n",
       "      cursor: pointer;\n",
       "      display: none;\n",
       "      fill: #1967D2;\n",
       "      height: 32px;\n",
       "      padding: 0 0 0 0;\n",
       "      width: 32px;\n",
       "    }\n",
       "\n",
       "    .colab-df-convert:hover {\n",
       "      background-color: #E2EBFA;\n",
       "      box-shadow: 0px 1px 2px rgba(60, 64, 67, 0.3), 0px 1px 3px 1px rgba(60, 64, 67, 0.15);\n",
       "      fill: #174EA6;\n",
       "    }\n",
       "\n",
       "    [theme=dark] .colab-df-convert {\n",
       "      background-color: #3B4455;\n",
       "      fill: #D2E3FC;\n",
       "    }\n",
       "\n",
       "    [theme=dark] .colab-df-convert:hover {\n",
       "      background-color: #434B5C;\n",
       "      box-shadow: 0px 1px 3px 1px rgba(0, 0, 0, 0.15);\n",
       "      filter: drop-shadow(0px 1px 2px rgba(0, 0, 0, 0.3));\n",
       "      fill: #FFFFFF;\n",
       "    }\n",
       "  </style>\n",
       "\n",
       "      <script>\n",
       "        const buttonEl =\n",
       "          document.querySelector('#df-0ced4a97-9469-4d17-9930-4fc2bd38b55a button.colab-df-convert');\n",
       "        buttonEl.style.display =\n",
       "          google.colab.kernel.accessAllowed ? 'block' : 'none';\n",
       "\n",
       "        async function convertToInteractive(key) {\n",
       "          const element = document.querySelector('#df-0ced4a97-9469-4d17-9930-4fc2bd38b55a');\n",
       "          const dataTable =\n",
       "            await google.colab.kernel.invokeFunction('convertToInteractive',\n",
       "                                                     [key], {});\n",
       "          if (!dataTable) return;\n",
       "\n",
       "          const docLinkHtml = 'Like what you see? Visit the ' +\n",
       "            '<a target=\"_blank\" href=https://colab.research.google.com/notebooks/data_table.ipynb>data table notebook</a>'\n",
       "            + ' to learn more about interactive tables.';\n",
       "          element.innerHTML = '';\n",
       "          dataTable['output_type'] = 'display_data';\n",
       "          await google.colab.output.renderOutput(dataTable, element);\n",
       "          const docLink = document.createElement('div');\n",
       "          docLink.innerHTML = docLinkHtml;\n",
       "          element.appendChild(docLink);\n",
       "        }\n",
       "      </script>\n",
       "    </div>\n",
       "  </div>\n",
       "  "
      ],
      "text/plain": [
       "    price  assess  bdrms  lotsize  sqrft  colonial    lprice   lassess  \\\n",
       "0   300.0   349.1      4     6126   2438         1  5.703783  5.855359   \n",
       "1   370.0   351.5      3     9903   2076         1  5.913503  5.862210   \n",
       "2   191.0   217.7      3     5200   1374         0  5.252274  5.383118   \n",
       "3   195.0   231.8      3     4600   1448         1  5.273000  5.445875   \n",
       "4   373.0   319.1      4     6095   2514         1  5.921578  5.765504   \n",
       "..    ...     ...    ...      ...    ...       ...       ...       ...   \n",
       "83  295.0   318.3      3     6056   1837         1  5.686975  5.762994   \n",
       "84  236.0   259.4      3     5828   1715         0  5.463832  5.558371   \n",
       "85  202.5   258.1      3     6341   1574         0  5.310740  5.553347   \n",
       "86  219.0   232.0      2     6362   1185         0  5.389072  5.446737   \n",
       "87  242.0   252.0      4     4950   1774         1  5.488938  5.529429   \n",
       "\n",
       "    llotsize    lsqrft  \n",
       "0   8.720297  7.798934  \n",
       "1   9.200593  7.638198  \n",
       "2   8.556414  7.225482  \n",
       "3   8.433811  7.277938  \n",
       "4   8.715224  7.829630  \n",
       "..       ...       ...  \n",
       "83  8.708805  7.515889  \n",
       "84  8.670429  7.447168  \n",
       "85  8.754792  7.361375  \n",
       "86  8.758098  7.077498  \n",
       "87  8.507143  7.480992  \n",
       "\n",
       "[88 rows x 10 columns]"
      ]
     },
     "execution_count": 2,
     "metadata": {},
     "output_type": "execute_result"
    }
   ],
   "source": [
    "df = pd.read_csv(\"/content/hprice1.csv\")\n",
    "df"
   ]
  },
  {
   "cell_type": "code",
   "execution_count": 3,
   "id": "kfOPOeJoIJF4",
   "metadata": {
    "colab": {
     "base_uri": "https://localhost:8080/",
     "height": 296
    },
    "id": "kfOPOeJoIJF4",
    "outputId": "06d385ec-1b23-4137-e3d8-c63ae4f0dadc"
   },
   "outputs": [
    {
     "data": {
      "image/png": "[encoded data removed]",
      "text/plain": [
       "<Figure size 432x288 with 1 Axes>"
      ]
     },
     "metadata": {
      "needs_background": "light"
     },
     "output_type": "display_data"
    },
    {
     "name": "stdout",
     "output_type": "stream",
     "text": [
      "0.6148015074062044\n"
     ]
    }
   ],
   "source": [
    "plt.hist(df['price'])\n",
    "plt.xlabel(\"Price\")\n",
    "plt.show()\n",
    "print(skew(df['lprice'],bias=False))"
   ]
  },
  {
   "cell_type": "code",
   "execution_count": null,
   "id": "03ivvAwFJqCB",
   "metadata": {
    "colab": {
     "base_uri": "https://localhost:8080/",
     "height": 296
    },
    "id": "03ivvAwFJqCB",
    "outputId": "5b88f546-1653-4dee-c522-545b08cbd1aa"
   },
   "outputs": [
    {
     "data": {
      "image/png": "[encoded data removed]",
      "text/plain": [
       "<Figure size 432x288 with 1 Axes>"
      ]
     },
     "metadata": {
      "needs_background": "light"
     },
     "output_type": "display_data"
    },
    {
     "name": "stdout",
     "output_type": "stream",
     "text": [
      "1.807538734507499\n"
     ]
    }
   ],
   "source": [
    "plt.hist(df['assess'])\n",
    "plt.xlabel(\"assess\")\n",
    "plt.show()\n",
    "print(skew(df['assess'],bias=False))"
   ]
  },
  {
   "cell_type": "code",
   "execution_count": null,
   "id": "cYEi4OV9NF0z",
   "metadata": {
    "colab": {
     "base_uri": "https://localhost:8080/",
     "height": 296
    },
    "id": "cYEi4OV9NF0z",
    "outputId": "ad30b8ae-27e6-499d-9047-ec2c4f770ea9"
   },
   "outputs": [
    {
     "data": {
      "image/png": "[encoded data removed]",
      "text/plain": [
       "<Figure size 432x288 with 1 Axes>"
      ]
     },
     "metadata": {
      "needs_background": "light"
     },
     "output_type": "display_data"
    },
    {
     "name": "stdout",
     "output_type": "stream",
     "text": [
      "6.7494082021716775\n"
     ]
    }
   ],
   "source": [
    "plt.hist(df['lotsize'])\n",
    "plt.xlabel(\"lotsize\")\n",
    "plt.show()\n",
    "print(skew(df['lotsize'],bias=False))"
   ]
  },
  {
   "cell_type": "code",
   "execution_count": null,
   "id": "65xlbjdYNylA",
   "metadata": {
    "colab": {
     "base_uri": "https://localhost:8080/",
     "height": 296
    },
    "id": "65xlbjdYNylA",
    "outputId": "c0edd5d2-47e5-44c2-b2f9-30d63458e9ba"
   },
   "outputs": [
    {
     "data": {
      "image/png": "[encoded data removed]",
      "text/plain": [
       "<Figure size 432x288 with 1 Axes>"
      ]
     },
     "metadata": {
      "needs_background": "light"
     },
     "output_type": "display_data"
    },
    {
     "name": "stdout",
     "output_type": "stream",
     "text": [
      "1.4079919526780704\n"
     ]
    }
   ],
   "source": [
    "plt.hist(df['sqrft'])\n",
    "plt.xlabel(\"sqrft\")\n",
    "plt.show()\n",
    "print(skew(df['sqrft'],bias=False))"
   ]
  },
  {
   "cell_type": "code",
   "execution_count": null,
   "id": "QzimR0JdN67J",
   "metadata": {
    "colab": {
     "base_uri": "https://localhost:8080/",
     "height": 743
    },
    "id": "QzimR0JdN67J",
    "outputId": "2ff3ff26-160a-46e3-d24c-4dcfd61c0771"
   },
   "outputs": [
    {
     "data": {
      "text/plain": [
       "<seaborn.axisgrid.PairGrid at 0x7fcd6c8d7e80>"
      ]
     },
     "execution_count": 26,
     "metadata": {},
     "output_type": "execute_result"
    },
    {
     "data": {
      "image/png": "[encoded data removed]",
      "text/plain": [
       "<Figure size 720x720 with 20 Axes>"
      ]
     },
     "metadata": {
      "needs_background": "light"
     },
     "output_type": "display_data"
    }
   ],
   "source": [
    "sns.pairplot(df,vars=['price','assess','lotsize','sqrft'])"
   ]
  },
  {
   "cell_type": "code",
   "execution_count": null,
   "id": "uTy-UckUPgsA",
   "metadata": {
    "colab": {
     "base_uri": "https://localhost:8080/",
     "height": 279
    },
    "id": "uTy-UckUPgsA",
    "outputId": "e73225c8-6b53-4db4-fab4-ae7c3dbb5a62"
   },
   "outputs": [
    {
     "data": {
      "image/png": "[encoded data removed]",
      "text/plain": [
       "<Figure size 432x288 with 1 Axes>"
      ]
     },
     "metadata": {
      "needs_background": "light"
     },
     "output_type": "display_data"
    }
   ],
   "source": [
    "sns.boxplot(x = df['colonial'],y=df['price'])\n",
    "plt.show()"
   ]
  },
  {
   "cell_type": "code",
   "execution_count": null,
   "id": "AwvgEJ8lpYaB",
   "metadata": {
    "colab": {
     "base_uri": "https://localhost:8080/",
     "height": 279
    },
    "id": "AwvgEJ8lpYaB",
    "outputId": "1dd2a905-3af4-4b4b-c376-dfd95d945769"
   },
   "outputs": [
    {
     "data": {
      "image/png": "[encoded data removed]",
      "text/plain": [
       "<Figure size 432x288 with 1 Axes>"
      ]
     },
     "metadata": {
      "needs_background": "light"
     },
     "output_type": "display_data"
    }
   ],
   "source": [
    "sns.boxplot(x = df['bdrms'],y=df['price'])\n",
    "plt.show()"
   ]
  },
  {
   "cell_type": "code",
   "execution_count": 20,
   "id": "ss-U8pR3QP8R",
   "metadata": {
    "id": "ss-U8pR3QP8R"
   },
   "outputs": [],
   "source": [
    "X = df[['lassess','bdrms','colonial']]\n",
    "y = df.lprice\n",
    "X_train, X_test, y_train, y_test = train_test_split(X, y, test_size=0.25, random_state=42)"
   ]
  },
  {
   "cell_type": "code",
   "execution_count": 21,
   "id": "lY3yYObmr5cf",
   "metadata": {
    "colab": {
     "base_uri": "https://localhost:8080/",
     "height": 423
    },
    "id": "lY3yYObmr5cf",
    "outputId": "52953693-14c8-4f6a-fdc4-c429b9a3a433"
   },
   "outputs": [
    {
     "data": {
      "text/html": [
       "\n",
       "  <div id=\"df-d25666ef-adc2-4db6-9f43-c52679dc3ed0\">\n",
       "    <div class=\"colab-df-container\">\n",
       "      <div>\n",
       "<style scoped>\n",
       "    .dataframe tbody tr th:only-of-type {\n",
       "        vertical-align: middle;\n",
       "    }\n",
       "\n",
       "    .dataframe tbody tr th {\n",
       "        vertical-align: top;\n",
       "    }\n",
       "\n",
       "    .dataframe thead th {\n",
       "        text-align: right;\n",
       "    }\n",
       "</style>\n",
       "<table border=\"1\" class=\"dataframe\">\n",
       "  <thead>\n",
       "    <tr style=\"text-align: right;\">\n",
       "      <th></th>\n",
       "      <th>lassess</th>\n",
       "      <th>bdrms</th>\n",
       "      <th>colonial</th>\n",
       "    </tr>\n",
       "  </thead>\n",
       "  <tbody>\n",
       "    <tr>\n",
       "      <th>40</th>\n",
       "      <td>5.629418</td>\n",
       "      <td>3</td>\n",
       "      <td>1</td>\n",
       "    </tr>\n",
       "    <tr>\n",
       "      <th>28</th>\n",
       "      <td>6.169820</td>\n",
       "      <td>7</td>\n",
       "      <td>1</td>\n",
       "    </tr>\n",
       "    <tr>\n",
       "      <th>9</th>\n",
       "      <td>5.546349</td>\n",
       "      <td>3</td>\n",
       "      <td>0</td>\n",
       "    </tr>\n",
       "    <tr>\n",
       "      <th>66</th>\n",
       "      <td>5.818598</td>\n",
       "      <td>4</td>\n",
       "      <td>1</td>\n",
       "    </tr>\n",
       "    <tr>\n",
       "      <th>5</th>\n",
       "      <td>6.027073</td>\n",
       "      <td>5</td>\n",
       "      <td>1</td>\n",
       "    </tr>\n",
       "    <tr>\n",
       "      <th>...</th>\n",
       "      <td>...</td>\n",
       "      <td>...</td>\n",
       "      <td>...</td>\n",
       "    </tr>\n",
       "    <tr>\n",
       "      <th>20</th>\n",
       "      <td>5.684599</td>\n",
       "      <td>3</td>\n",
       "      <td>1</td>\n",
       "    </tr>\n",
       "    <tr>\n",
       "      <th>60</th>\n",
       "      <td>5.673323</td>\n",
       "      <td>3</td>\n",
       "      <td>0</td>\n",
       "    </tr>\n",
       "    <tr>\n",
       "      <th>71</th>\n",
       "      <td>5.524257</td>\n",
       "      <td>3</td>\n",
       "      <td>1</td>\n",
       "    </tr>\n",
       "    <tr>\n",
       "      <th>14</th>\n",
       "      <td>5.661223</td>\n",
       "      <td>3</td>\n",
       "      <td>1</td>\n",
       "    </tr>\n",
       "    <tr>\n",
       "      <th>51</th>\n",
       "      <td>5.634075</td>\n",
       "      <td>2</td>\n",
       "      <td>0</td>\n",
       "    </tr>\n",
       "  </tbody>\n",
       "</table>\n",
       "<p>66 rows × 3 columns</p>\n",
       "</div>\n",
       "      <button class=\"colab-df-convert\" onclick=\"convertToInteractive('df-d25666ef-adc2-4db6-9f43-c52679dc3ed0')\"\n",
       "              title=\"Convert this dataframe to an interactive table.\"\n",
       "              style=\"display:none;\">\n",
       "        \n",
       "  <svg xmlns=\"http://www.w3.org/2000/svg\" height=\"24px\"viewBox=\"0 0 24 24\"\n",
       "       width=\"24px\">\n",
       "    <path d=\"M0 0h24v24H0V0z\" fill=\"none\"/>\n",
       "    <path d=\"M18.56 5.44l.94 2.06.94-2.06 2.06-.94-2.06-.94-.94-2.06-.94 2.06-2.06.94zm-11 1L8.5 8.5l.94-2.06 2.06-.94-2.06-.94L8.5 2.5l-.94 2.06-2.06.94zm10 10l.94 2.06.94-2.06 2.06-.94-2.06-.94-.94-2.06-.94 2.06-2.06.94z\"/><path d=\"M17.41 7.96l-1.37-1.37c-.4-.4-.92-.59-1.43-.59-.52 0-1.04.2-1.43.59L10.3 9.45l-7.72 7.72c-.78.78-.78 2.05 0 2.83L4 21.41c.39.39.9.59 1.41.59.51 0 1.02-.2 1.41-.59l7.78-7.78 2.81-2.81c.8-.78.8-2.07 0-2.86zM5.41 20L4 18.59l7.72-7.72 1.47 1.35L5.41 20z\"/>\n",
       "  </svg>\n",
       "      </button>\n",
       "      \n",
       "  <style>\n",
       "    .colab-df-container {\n",
       "      display:flex;\n",
       "      flex-wrap:wrap;\n",
       "      gap: 12px;\n",
       "    }\n",
       "\n",
       "    .colab-df-convert {\n",
       "      background-color: #E8F0FE;\n",
       "      border: none;\n",
       "      border-radius: 50%;\n",
       "      cursor: pointer;\n",
       "      display: none;\n",
       "      fill: #1967D2;\n",
       "      height: 32px;\n",
       "      padding: 0 0 0 0;\n",
       "      width: 32px;\n",
       "    }\n",
       "\n",
       "    .colab-df-convert:hover {\n",
       "      background-color: #E2EBFA;\n",
       "      box-shadow: 0px 1px 2px rgba(60, 64, 67, 0.3), 0px 1px 3px 1px rgba(60, 64, 67, 0.15);\n",
       "      fill: #174EA6;\n",
       "    }\n",
       "\n",
       "    [theme=dark] .colab-df-convert {\n",
       "      background-color: #3B4455;\n",
       "      fill: #D2E3FC;\n",
       "    }\n",
       "\n",
       "    [theme=dark] .colab-df-convert:hover {\n",
       "      background-color: #434B5C;\n",
       "      box-shadow: 0px 1px 3px 1px rgba(0, 0, 0, 0.15);\n",
       "      filter: drop-shadow(0px 1px 2px rgba(0, 0, 0, 0.3));\n",
       "      fill: #FFFFFF;\n",
       "    }\n",
       "  </style>\n",
       "\n",
       "      <script>\n",
       "        const buttonEl =\n",
       "          document.querySelector('#df-d25666ef-adc2-4db6-9f43-c52679dc3ed0 button.colab-df-convert');\n",
       "        buttonEl.style.display =\n",
       "          google.colab.kernel.accessAllowed ? 'block' : 'none';\n",
       "\n",
       "        async function convertToInteractive(key) {\n",
       "          const element = document.querySelector('#df-d25666ef-adc2-4db6-9f43-c52679dc3ed0');\n",
       "          const dataTable =\n",
       "            await google.colab.kernel.invokeFunction('convertToInteractive',\n",
       "                                                     [key], {});\n",
       "          if (!dataTable) return;\n",
       "\n",
       "          const docLinkHtml = 'Like what you see? Visit the ' +\n",
       "            '<a target=\"_blank\" href=https://colab.research.google.com/notebooks/data_table.ipynb>data table notebook</a>'\n",
       "            + ' to learn more about interactive tables.';\n",
       "          element.innerHTML = '';\n",
       "          dataTable['output_type'] = 'display_data';\n",
       "          await google.colab.output.renderOutput(dataTable, element);\n",
       "          const docLink = document.createElement('div');\n",
       "          docLink.innerHTML = docLinkHtml;\n",
       "          element.appendChild(docLink);\n",
       "        }\n",
       "      </script>\n",
       "    </div>\n",
       "  </div>\n",
       "  "
      ],
      "text/plain": [
       "     lassess  bdrms  colonial\n",
       "40  5.629418      3         1\n",
       "28  6.169820      7         1\n",
       "9   5.546349      3         0\n",
       "66  5.818598      4         1\n",
       "5   6.027073      5         1\n",
       "..       ...    ...       ...\n",
       "20  5.684599      3         1\n",
       "60  5.673323      3         0\n",
       "71  5.524257      3         1\n",
       "14  5.661223      3         1\n",
       "51  5.634075      2         0\n",
       "\n",
       "[66 rows x 3 columns]"
      ]
     },
     "execution_count": 21,
     "metadata": {},
     "output_type": "execute_result"
    }
   ],
   "source": [
    "X_train"
   ]
  },
  {
   "cell_type": "markdown",
   "id": "Dh2sslooufYJ",
   "metadata": {
    "id": "Dh2sslooufYJ"
   },
   "source": [
    "# **Linear Regression Using statsmodel**"
   ]
  },
  {
   "cell_type": "code",
   "execution_count": 22,
   "id": "21IZG9hz6GK5",
   "metadata": {
    "colab": {
     "base_uri": "https://localhost:8080/"
    },
    "id": "21IZG9hz6GK5",
    "outputId": "45ea3a2c-0e2d-43ab-f8a3-bf7adf176933"
   },
   "outputs": [
    {
     "name": "stdout",
     "output_type": "stream",
     "text": [
      "                            OLS Regression Results                            \n",
      "==============================================================================\n",
      "Dep. Variable:                 lprice   R-squared:                       0.806\n",
      "Model:                            OLS   Adj. R-squared:                  0.796\n",
      "Method:                 Least Squares   F-statistic:                     85.69\n",
      "Date:                Sun, 12 Mar 2023   Prob (F-statistic):           5.04e-22\n",
      "Time:                        17:33:50   Log-Likelihood:                 40.406\n",
      "No. Observations:                  66   AIC:                            -72.81\n",
      "Df Residuals:                      62   BIC:                            -64.05\n",
      "Df Model:                           3                                         \n",
      "Covariance Type:            nonrobust                                         \n",
      "==============================================================================\n",
      "                 coef    std err          t      P>|t|      [0.025      0.975]\n",
      "------------------------------------------------------------------------------\n",
      "const         -0.0147      0.393     -0.037      0.970      -0.801       0.771\n",
      "lassess        0.9664      0.074     13.050      0.000       0.818       1.114\n",
      "bdrms          0.0319      0.022      1.472      0.146      -0.011       0.075\n",
      "colonial       0.0434      0.037      1.168      0.247      -0.031       0.118\n",
      "==============================================================================\n",
      "Omnibus:                       32.184   Durbin-Watson:                   1.833\n",
      "Prob(Omnibus):                  0.000   Jarque-Bera (JB):              121.279\n",
      "Skew:                           1.290   Prob(JB):                     4.62e-27\n",
      "Kurtosis:                       9.119   Cond. No.                         165.\n",
      "==============================================================================\n",
      "\n",
      "Notes:\n",
      "[1] Standard Errors assume that the covariance matrix of the errors is correctly specified.\n",
      "R-Squared error for OLS regression 0.6601865184251163\n",
      "Adj-R-Squared error for OLS regression 0.6035509381626357\n"
     ]
    }
   ],
   "source": [
    "X2 = sm.add_constant(X_train)\n",
    "model = sm.OLS(y_train,X2)\n",
    "results = model.fit()\n",
    "print(results.summary())\n",
    "X3 = sm.add_constant(X_test)\n",
    "y_pred = results.predict(X3)\n",
    "print(\"R-Squared error for OLS regression {}\".format(r2_score(y_test, y_pred)))\n",
    "Adj_r2 = 1 - (1-r2_score(y_test, y_pred)) * (len(y_test)-1)/(len(y_test)-X_test.shape[1]-1)\n",
    "print(\"Adj-R-Squared error for OLS regression {}\".format(Adj_r2))"
   ]
  },
  {
   "cell_type": "markdown",
   "id": "L7JPHWW9_Z5m",
   "metadata": {
    "id": "L7JPHWW9_Z5m"
   },
   "source": [
    "# **Linear Regression Using sklearn**"
   ]
  },
  {
   "cell_type": "code",
   "execution_count": 23,
   "id": "I8a8Vzr_nUV0",
   "metadata": {
    "colab": {
     "base_uri": "https://localhost:8080/"
    },
    "id": "I8a8Vzr_nUV0",
    "outputId": "476fb76e-0b12-4ae8-f386-7a361f3e5b36"
   },
   "outputs": [
    {
     "name": "stdout",
     "output_type": "stream",
     "text": [
      "Linear Regression coefficients [0.96635048 0.03194413 0.04338539]\n",
      "Linear Regression Intercept -0.014734691346230733\n",
      "Mean Squared error for Linear regression 0.03253790823265198\n",
      "R-Squared error for Linear regression 0.660186518425111\n",
      "Adj-R-Squared error for Linear regression 0.6035509381626295\n"
     ]
    }
   ],
   "source": [
    "lm = linear_model.LinearRegression()\n",
    "lm.fit(X_train,y_train)\n",
    "print(\"Linear Regression coefficients {}\".format(lm.coef_))\n",
    "print(\"Linear Regression Intercept {}\".format(lm.intercept_))\n",
    "y_pred = lm.predict(X_test)\n",
    "print(\"Mean Squared error for Linear regression {}\".format(mean_squared_error(y_test, y_pred)))\n",
    "print(\"R-Squared error for Linear regression {}\".format(r2_score(y_test, y_pred)))\n",
    "Adj_r2 = 1 - (1-r2_score(y_test, y_pred)) * (len(y_test)-1)/(len(y_test)-X_test.shape[1]-1)\n",
    "print(\"Adj-R-Squared error for Linear regression {}\".format(Adj_r2))"
   ]
  },
  {
   "cell_type": "markdown",
   "id": "4dDax7AvuujO",
   "metadata": {
    "id": "4dDax7AvuujO"
   },
   "source": [
    "# **Lasso Regression**"
   ]
  },
  {
   "cell_type": "code",
   "execution_count": 24,
   "id": "jSIonIz0nU00",
   "metadata": {
    "colab": {
     "base_uri": "https://localhost:8080/"
    },
    "id": "jSIonIz0nU00",
    "outputId": "17db729b-f2e7-4bdd-cf6b-fbce24f0fd1c"
   },
   "outputs": [
    {
     "name": "stdout",
     "output_type": "stream",
     "text": [
      "Lasso Regression coefficients [0.94895875 0.0337572  0.03872912]\n",
      "Lasso Regression Intercept 0.08137337062816474\n",
      "Mean Squared error for Lasso regression 0.03254542045578274\n",
      "R-Squared error for Lasso regression 0.6601080636369857\n",
      "Adj-R-Squared error for Lasso regression 0.6034594075764834\n"
     ]
    }
   ],
   "source": [
    "lm1 = linear_model.Lasso(alpha=0.001)\n",
    "lm1.fit(X_train,y_train)\n",
    "print(\"Lasso Regression coefficients {}\".format(lm1.coef_))\n",
    "print(\"Lasso Regression Intercept {}\".format(lm1.intercept_))\n",
    "y_pred = lm1.predict(X_test)\n",
    "print(\"Mean Squared error for Lasso regression {}\".format(mean_squared_error(y_test, y_pred)))\n",
    "print(\"R-Squared error for Lasso regression {}\".format(r2_score(y_test, y_pred)))\n",
    "Adj_r2 = 1 - (1-r2_score(y_test, y_pred)) * (len(y_test)-1)/(len(y_test)-X_test.shape[1]-1)\n",
    "print(\"Adj-R-Squared error for Lasso regression {}\".format(Adj_r2))"
   ]
  },
  {
   "cell_type": "markdown",
   "id": "2MzkbKI9xfho",
   "metadata": {
    "id": "2MzkbKI9xfho"
   },
   "source": [
    "# **Lasso CV**"
   ]
  },
  {
   "cell_type": "code",
   "execution_count": 25,
   "id": "VKBG-iujvM1c",
   "metadata": {
    "colab": {
     "base_uri": "https://localhost:8080/"
    },
    "id": "VKBG-iujvM1c",
    "outputId": "69b172f9-620e-4409-d91c-72fa26dfe2aa"
   },
   "outputs": [
    {
     "name": "stdout",
     "output_type": "stream",
     "text": [
      "Lasso Regression CV coefficients [0.96618557 0.0319609  0.04333908]\n",
      "Lasso Regression CV Intercept -0.013820351666331554\n",
      "Lasso Regression CV Alpha 1e-05\n",
      "Lasso Regression CV Alpha 1e-05\n",
      "Mean Squared error for Lasso regression CV 0.03253770736991118\n",
      "R-Squared error for Lasso regression CV 0.6601886161588307\n",
      "Adj-R-Squared error for Lasso regression CV 0.6035533855186359\n"
     ]
    }
   ],
   "source": [
    "lm1 = linear_model.LassoCV(alphas=np.linspace(0.00001,0.01,200))\n",
    "lm1.fit(X_train,y_train)\n",
    "print(\"Lasso Regression CV coefficients {}\".format(lm1.coef_))\n",
    "print(\"Lasso Regression CV Intercept {}\".format(lm1.intercept_))\n",
    "print(\"Lasso Regression CV Alpha {}\".format(lm1.alpha_))\n",
    "print(\"Lasso Regression CV Alpha {}\".format(lm1.alphas_[lm1.mse_path_.mean(1).argmin()]))\n",
    "y_pred = lm1.predict(X_test)\n",
    "print(\"Mean Squared error for Lasso regression CV {}\".format(mean_squared_error(y_test, y_pred)))\n",
    "print(\"R-Squared error for Lasso regression CV {}\".format(r2_score(y_test, y_pred)))\n",
    "Adj_r2 = 1 - (1-r2_score(y_test, y_pred)) * (len(y_test)-1)/(len(y_test)-X_test.shape[1]-1)\n",
    "print(\"Adj-R-Squared error for Lasso regression CV {}\".format(Adj_r2))"
   ]
  },
  {
   "cell_type": "markdown",
   "id": "Es5MyWcsqzN8",
   "metadata": {
    "id": "Es5MyWcsqzN8"
   },
   "source": [
    "# **Ridge Regression**"
   ]
  },
  {
   "cell_type": "code",
   "execution_count": 26,
   "id": "Pb8Sfl-hFARG",
   "metadata": {
    "colab": {
     "base_uri": "https://localhost:8080/"
    },
    "id": "Pb8Sfl-hFARG",
    "outputId": "3014e781-e36d-4f8f-f573-427f72368d3a"
   },
   "outputs": [
    {
     "name": "stdout",
     "output_type": "stream",
     "text": [
      "Ridge Regression coefficients [0.96606237 0.03198437 0.04337628]\n",
      "Ridge Regression Intercept -0.013225091243921128\n",
      "Mean Squared error for Ridge regression 0.03253872249128345\n",
      "R-Squared error for Ridge regression 0.6601780146190739\n",
      "Adj-R-Squared error for Ridge regression 0.6035410170555862\n"
     ]
    }
   ],
   "source": [
    "lm1 = linear_model.Ridge(alpha=0.001)\n",
    "lm1.fit(X_train,y_train)\n",
    "print(\"Ridge Regression coefficients {}\".format(lm1.coef_))\n",
    "print(\"Ridge Regression Intercept {}\".format(lm1.intercept_))\n",
    "y_pred = lm1.predict(X_test)\n",
    "print(\"Mean Squared error for Ridge regression {}\".format(mean_squared_error(y_test, y_pred)))\n",
    "print(\"R-Squared error for Ridge regression {}\".format(r2_score(y_test, y_pred)))\n",
    "Adj_r2 = 1 - (1-r2_score(y_test, y_pred)) * (len(y_test)-1)/(len(y_test)-X_test.shape[1]-1)\n",
    "print(\"Adj-R-Squared error for Ridge regression {}\".format(Adj_r2))"
   ]
  },
  {
   "cell_type": "markdown",
   "id": "RWRw4Ea3q4IQ",
   "metadata": {
    "id": "RWRw4Ea3q4IQ"
   },
   "source": [
    "# **Ridge Regressio CV**"
   ]
  },
  {
   "cell_type": "code",
   "execution_count": 27,
   "id": "8Ftzt3zdK1jm",
   "metadata": {
    "colab": {
     "base_uri": "https://localhost:8080/"
    },
    "id": "8Ftzt3zdK1jm",
    "outputId": "02ccfa17-ba55-4af7-deb0-8e63a6dffab8"
   },
   "outputs": [
    {
     "name": "stdout",
     "output_type": "stream",
     "text": [
      "Ridge Regression CV coefficients [0.96481649 0.03215833 0.04333687]\n",
      "Ridge Regression CV Intercept -0.006697104981198798\n",
      "Ridge Regression CV Alpha 0.005331306532663316\n",
      "Mean Squared error for Ridge regression CV 0.03254236206705028\n",
      "R-Squared error for Ridge regression CV 0.6601400042803656\n",
      "Adj-R-Squared error for Lasso regression CV 0.6034966716604264\n"
     ]
    }
   ],
   "source": [
    "lm1 = linear_model.RidgeCV(alphas=np.linspace(0.00001,0.01,200))\n",
    "lm1.fit(X_train,y_train)\n",
    "print(\"Ridge Regression CV coefficients {}\".format(lm1.coef_))\n",
    "print(\"Ridge Regression CV Intercept {}\".format(lm1.intercept_))\n",
    "print(\"Ridge Regression CV Alpha {}\".format(lm1.alpha_))\n",
    "y_pred = lm1.predict(X_test)\n",
    "print(\"Mean Squared error for Ridge regression CV {}\".format(mean_squared_error(y_test, y_pred)))\n",
    "print(\"R-Squared error for Ridge regression CV {}\".format(r2_score(y_test, y_pred)))\n",
    "Adj_r2 = 1 - (1-r2_score(y_test, y_pred)) * (len(y_test)-1)/(len(y_test)-X_test.shape[1]-1)\n",
    "print(\"Adj-R-Squared error for Lasso regression CV {}\".format(Adj_r2))"
   ]
  },
  {
   "cell_type": "markdown",
   "id": "LZQUghv_17lJ",
   "metadata": {
    "id": "LZQUghv_17lJ"
   },
   "source": [
    "# **Elastic Net Regression**"
   ]
  },
  {
   "cell_type": "code",
   "execution_count": 28,
   "id": "6SDkMrCJLxCh",
   "metadata": {
    "colab": {
     "base_uri": "https://localhost:8080/"
    },
    "id": "6SDkMrCJLxCh",
    "outputId": "ac42ec44-8f35-4fe7-c95e-94d335b6025c"
   },
   "outputs": [
    {
     "name": "stdout",
     "output_type": "stream",
     "text": [
      "Elastic NET Regression coefficients [0.06294453 0.09548064 0.        ]\n",
      "Elastic NET Regression Intercept 4.950867504176772\n",
      "Mean Squared error for Elastic NET Regression 0.08628626864061854\n"
     ]
    }
   ],
   "source": [
    "lm1 = linear_model.ElasticNet(alpha=0.1,l1_ratio=0.5)\n",
    "lm1.fit(X_train,y_train)\n",
    "print(\"Elastic NET Regression coefficients {}\".format(lm1.coef_))\n",
    "print(\"Elastic NET Regression Intercept {}\".format(lm1.intercept_))\n",
    "y_pred = lm1.predict(X_test)\n",
    "print(\"Mean Squared error for Elastic NET Regression {}\".format(mean_squared_error(y_test, y_pred)))"
   ]
  },
  {
   "cell_type": "markdown",
   "id": "9_5dDsPI1_YQ",
   "metadata": {
    "id": "9_5dDsPI1_YQ"
   },
   "source": [
    "# **Elastic Regression CV**"
   ]
  },
  {
   "cell_type": "code",
   "execution_count": 29,
   "id": "SI9a5ob71RGU",
   "metadata": {
    "colab": {
     "base_uri": "https://localhost:8080/"
    },
    "id": "SI9a5ob71RGU",
    "outputId": "f43a70da-e7b6-4eab-d6da-58ed67919cd4"
   },
   "outputs": [
    {
     "name": "stdout",
     "output_type": "stream",
     "text": [
      "Elastic NET Regression coefficients [0.96454046 0.03216599 0.04312285]\n",
      "Elastic NET Regression Intercept -0.0050013246747511175\n",
      "Elastic NET Regression alpha 0.0001\n",
      "Mean Squared error for Elastic NET Regression 0.03253991048410005\n",
      "R-Squared error for Elastic NET Regression 0.6601656076760027\n",
      "Adj-R-Squared error for Elastic NET Regression 0.6035265422886699\n"
     ]
    }
   ],
   "source": [
    "lm1 = linear_model.ElasticNetCV(alphas=np.linspace(0.0001,0.01,500))\n",
    "lm1.fit(X_train,y_train)\n",
    "print(\"Elastic NET Regression coefficients {}\".format(lm1.coef_))\n",
    "print(\"Elastic NET Regression Intercept {}\".format(lm1.intercept_))\n",
    "print(\"Elastic NET Regression alpha {}\".format(lm1.alpha_))\n",
    "y_pred = lm1.predict(X_test)\n",
    "print(\"Mean Squared error for Elastic NET Regression {}\".format(mean_squared_error(y_test, y_pred)))\n",
    "print(\"R-Squared error for Elastic NET Regression {}\".format(r2_score(y_test, y_pred)))\n",
    "Adj_r2 = 1 - (1-r2_score(y_test, y_pred)) * (len(y_test)-1)/(len(y_test)-X_test.shape[1]-1)\n",
    "print(\"Adj-R-Squared error for Elastic NET Regression {}\".format(Adj_r2))"
   ]
  },
  {
   "cell_type": "code",
   "execution_count": null,
   "id": "NdZop2Wu125e",
   "metadata": {
    "id": "NdZop2Wu125e"
   },
   "outputs": [],
   "source": []
  }
 ],
 "metadata": {
  "colab": {
   "provenance": []
  },
  "kernelspec": {
   "display_name": "Python 3 (ipykernel)",
   "language": "python",
   "name": "python3"
  },
  "language_info": {
   "codemirror_mode": {
    "name": "ipython",
    "version": 3
   },
   "file_extension": ".py",
   "mimetype": "text/x-python",
   "name": "python",
   "nbconvert_exporter": "python",
   "pygments_lexer": "ipython3",
   "version": "3.9.13"
  }
 },
 "nbformat": 4,
 "nbformat_minor": 5
}
